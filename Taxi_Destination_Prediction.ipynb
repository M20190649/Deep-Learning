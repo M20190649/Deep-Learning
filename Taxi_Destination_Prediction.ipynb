{
  "nbformat": 4,
  "nbformat_minor": 0,
  "metadata": {
    "colab": {
      "name": "Taxi Destination Prediction",
      "provenance": [],
      "collapsed_sections": [],
      "include_colab_link": true
    },
    "kernelspec": {
      "name": "python3",
      "display_name": "Python 3"
    }
  },
  "cells": [
    {
      "cell_type": "markdown",
      "metadata": {
        "id": "view-in-github",
        "colab_type": "text"
      },
      "source": [
        "<a href=\"https://colab.research.google.com/github/cedricclg/Deep-Learning/blob/master/Taxi_Destination_Prediction.ipynb\" target=\"_parent\"><img src=\"https://colab.research.google.com/assets/colab-badge.svg\" alt=\"Open In Colab\"/></a>"
      ]
    },
    {
      "cell_type": "markdown",
      "metadata": {
        "id": "iqOF9oGc5AQJ",
        "colab_type": "text"
      },
      "source": [
        "# Importing the data"
      ]
    },
    {
      "cell_type": "code",
      "metadata": {
        "id": "T2q-DT5gyTSe",
        "colab_type": "code",
        "outputId": "2f55fbf7-09af-48ab-ef17-e1eeedd37867",
        "colab": {
          "base_uri": "https://localhost:8080/",
          "height": 35
        }
      },
      "source": [
        "import os\n",
        "import pandas as pd\n",
        "\n",
        "from google.colab import drive\n",
        "drive.mount('/content/drive')\n",
        "\n",
        "def get_data():\n",
        "  data_path = '/content/drive/My Drive/Deep-Learning/Deep-Learning/Data/'\n",
        "\n",
        "  df_train = pd.read_csv(data_path + \"train.csv\")\n",
        "  df_test = pd.read_csv(data_path + \"test.csv\")\n",
        "  df_sample = pd.read_csv(data_path + \"sampleSubmission.csv\")\n",
        "\n",
        "  return df_train, df_test, df_sample"
      ],
      "execution_count": 0,
      "outputs": [
        {
          "output_type": "stream",
          "text": [
            "Drive already mounted at /content/drive; to attempt to forcibly remount, call drive.mount(\"/content/drive\", force_remount=True).\n"
          ],
          "name": "stdout"
        }
      ]
    },
    {
      "cell_type": "code",
      "metadata": {
        "id": "0Nm0USxB0PmD",
        "colab_type": "code",
        "colab": {}
      },
      "source": [
        "df_train, df_test, df_sample = get_data()"
      ],
      "execution_count": 0,
      "outputs": []
    },
    {
      "cell_type": "code",
      "metadata": {
        "id": "vnCZoMh80Yxl",
        "colab_type": "code",
        "outputId": "d24d37ae-8243-472b-edde-64835df193d9",
        "colab": {
          "base_uri": "https://localhost:8080/",
          "height": 573
        }
      },
      "source": [
        "display(df_train.head())\n",
        "display(df_test.head())\n",
        "display(df_sample.head())"
      ],
      "execution_count": 0,
      "outputs": [
        {
          "output_type": "display_data",
          "data": {
            "text/html": [
              "<div>\n",
              "<style scoped>\n",
              "    .dataframe tbody tr th:only-of-type {\n",
              "        vertical-align: middle;\n",
              "    }\n",
              "\n",
              "    .dataframe tbody tr th {\n",
              "        vertical-align: top;\n",
              "    }\n",
              "\n",
              "    .dataframe thead th {\n",
              "        text-align: right;\n",
              "    }\n",
              "</style>\n",
              "<table border=\"1\" class=\"dataframe\">\n",
              "  <thead>\n",
              "    <tr style=\"text-align: right;\">\n",
              "      <th></th>\n",
              "      <th>TRIP_ID</th>\n",
              "      <th>CALL_TYPE</th>\n",
              "      <th>ORIGIN_CALL</th>\n",
              "      <th>ORIGIN_STAND</th>\n",
              "      <th>TAXI_ID</th>\n",
              "      <th>TIMESTAMP</th>\n",
              "      <th>DAY_TYPE</th>\n",
              "      <th>MISSING_DATA</th>\n",
              "      <th>POLYLINE</th>\n",
              "    </tr>\n",
              "  </thead>\n",
              "  <tbody>\n",
              "    <tr>\n",
              "      <th>0</th>\n",
              "      <td>1372636858620000589</td>\n",
              "      <td>C</td>\n",
              "      <td>NaN</td>\n",
              "      <td>NaN</td>\n",
              "      <td>20000589</td>\n",
              "      <td>1372636858</td>\n",
              "      <td>A</td>\n",
              "      <td>False</td>\n",
              "      <td>[[-8.618643,41.141412],[-8.618499,41.141376],[...</td>\n",
              "    </tr>\n",
              "    <tr>\n",
              "      <th>1</th>\n",
              "      <td>1372637303620000596</td>\n",
              "      <td>B</td>\n",
              "      <td>NaN</td>\n",
              "      <td>7.0</td>\n",
              "      <td>20000596</td>\n",
              "      <td>1372637303</td>\n",
              "      <td>A</td>\n",
              "      <td>False</td>\n",
              "      <td>[[-8.639847,41.159826],[-8.640351,41.159871],[...</td>\n",
              "    </tr>\n",
              "    <tr>\n",
              "      <th>2</th>\n",
              "      <td>1372636951620000320</td>\n",
              "      <td>C</td>\n",
              "      <td>NaN</td>\n",
              "      <td>NaN</td>\n",
              "      <td>20000320</td>\n",
              "      <td>1372636951</td>\n",
              "      <td>A</td>\n",
              "      <td>False</td>\n",
              "      <td>[[-8.612964,41.140359],[-8.613378,41.14035],[-...</td>\n",
              "    </tr>\n",
              "    <tr>\n",
              "      <th>3</th>\n",
              "      <td>1372636854620000520</td>\n",
              "      <td>C</td>\n",
              "      <td>NaN</td>\n",
              "      <td>NaN</td>\n",
              "      <td>20000520</td>\n",
              "      <td>1372636854</td>\n",
              "      <td>A</td>\n",
              "      <td>False</td>\n",
              "      <td>[[-8.574678,41.151951],[-8.574705,41.151942],[...</td>\n",
              "    </tr>\n",
              "    <tr>\n",
              "      <th>4</th>\n",
              "      <td>1372637091620000337</td>\n",
              "      <td>C</td>\n",
              "      <td>NaN</td>\n",
              "      <td>NaN</td>\n",
              "      <td>20000337</td>\n",
              "      <td>1372637091</td>\n",
              "      <td>A</td>\n",
              "      <td>False</td>\n",
              "      <td>[[-8.645994,41.18049],[-8.645949,41.180517],[-...</td>\n",
              "    </tr>\n",
              "  </tbody>\n",
              "</table>\n",
              "</div>"
            ],
            "text/plain": [
              "               TRIP_ID  ...                                           POLYLINE\n",
              "0  1372636858620000589  ...  [[-8.618643,41.141412],[-8.618499,41.141376],[...\n",
              "1  1372637303620000596  ...  [[-8.639847,41.159826],[-8.640351,41.159871],[...\n",
              "2  1372636951620000320  ...  [[-8.612964,41.140359],[-8.613378,41.14035],[-...\n",
              "3  1372636854620000520  ...  [[-8.574678,41.151951],[-8.574705,41.151942],[...\n",
              "4  1372637091620000337  ...  [[-8.645994,41.18049],[-8.645949,41.180517],[-...\n",
              "\n",
              "[5 rows x 9 columns]"
            ]
          },
          "metadata": {
            "tags": []
          }
        },
        {
          "output_type": "display_data",
          "data": {
            "text/html": [
              "<div>\n",
              "<style scoped>\n",
              "    .dataframe tbody tr th:only-of-type {\n",
              "        vertical-align: middle;\n",
              "    }\n",
              "\n",
              "    .dataframe tbody tr th {\n",
              "        vertical-align: top;\n",
              "    }\n",
              "\n",
              "    .dataframe thead th {\n",
              "        text-align: right;\n",
              "    }\n",
              "</style>\n",
              "<table border=\"1\" class=\"dataframe\">\n",
              "  <thead>\n",
              "    <tr style=\"text-align: right;\">\n",
              "      <th></th>\n",
              "      <th>TRIP_ID</th>\n",
              "      <th>CALL_TYPE</th>\n",
              "      <th>ORIGIN_CALL</th>\n",
              "      <th>ORIGIN_STAND</th>\n",
              "      <th>TAXI_ID</th>\n",
              "      <th>TIMESTAMP</th>\n",
              "      <th>DAY_TYPE</th>\n",
              "      <th>MISSING_DATA</th>\n",
              "      <th>POLYLINE</th>\n",
              "    </tr>\n",
              "  </thead>\n",
              "  <tbody>\n",
              "    <tr>\n",
              "      <th>0</th>\n",
              "      <td>T1</td>\n",
              "      <td>B</td>\n",
              "      <td>NaN</td>\n",
              "      <td>15.0</td>\n",
              "      <td>20000542</td>\n",
              "      <td>1408039037</td>\n",
              "      <td>A</td>\n",
              "      <td>False</td>\n",
              "      <td>[[-8.585676,41.148522],[-8.585712,41.148639],[...</td>\n",
              "    </tr>\n",
              "    <tr>\n",
              "      <th>1</th>\n",
              "      <td>T2</td>\n",
              "      <td>B</td>\n",
              "      <td>NaN</td>\n",
              "      <td>57.0</td>\n",
              "      <td>20000108</td>\n",
              "      <td>1408038611</td>\n",
              "      <td>A</td>\n",
              "      <td>False</td>\n",
              "      <td>[[-8.610876,41.14557],[-8.610858,41.145579],[-...</td>\n",
              "    </tr>\n",
              "    <tr>\n",
              "      <th>2</th>\n",
              "      <td>T3</td>\n",
              "      <td>B</td>\n",
              "      <td>NaN</td>\n",
              "      <td>15.0</td>\n",
              "      <td>20000370</td>\n",
              "      <td>1408038568</td>\n",
              "      <td>A</td>\n",
              "      <td>False</td>\n",
              "      <td>[[-8.585739,41.148558],[-8.58573,41.148828],[-...</td>\n",
              "    </tr>\n",
              "    <tr>\n",
              "      <th>3</th>\n",
              "      <td>T4</td>\n",
              "      <td>B</td>\n",
              "      <td>NaN</td>\n",
              "      <td>53.0</td>\n",
              "      <td>20000492</td>\n",
              "      <td>1408039090</td>\n",
              "      <td>A</td>\n",
              "      <td>False</td>\n",
              "      <td>[[-8.613963,41.141169],[-8.614125,41.141124],[...</td>\n",
              "    </tr>\n",
              "    <tr>\n",
              "      <th>4</th>\n",
              "      <td>T5</td>\n",
              "      <td>B</td>\n",
              "      <td>NaN</td>\n",
              "      <td>18.0</td>\n",
              "      <td>20000621</td>\n",
              "      <td>1408039177</td>\n",
              "      <td>A</td>\n",
              "      <td>False</td>\n",
              "      <td>[[-8.619903,41.148036],[-8.619894,41.148036]]</td>\n",
              "    </tr>\n",
              "  </tbody>\n",
              "</table>\n",
              "</div>"
            ],
            "text/plain": [
              "  TRIP_ID  ...                                           POLYLINE\n",
              "0      T1  ...  [[-8.585676,41.148522],[-8.585712,41.148639],[...\n",
              "1      T2  ...  [[-8.610876,41.14557],[-8.610858,41.145579],[-...\n",
              "2      T3  ...  [[-8.585739,41.148558],[-8.58573,41.148828],[-...\n",
              "3      T4  ...  [[-8.613963,41.141169],[-8.614125,41.141124],[...\n",
              "4      T5  ...      [[-8.619903,41.148036],[-8.619894,41.148036]]\n",
              "\n",
              "[5 rows x 9 columns]"
            ]
          },
          "metadata": {
            "tags": []
          }
        },
        {
          "output_type": "display_data",
          "data": {
            "text/html": [
              "<div>\n",
              "<style scoped>\n",
              "    .dataframe tbody tr th:only-of-type {\n",
              "        vertical-align: middle;\n",
              "    }\n",
              "\n",
              "    .dataframe tbody tr th {\n",
              "        vertical-align: top;\n",
              "    }\n",
              "\n",
              "    .dataframe thead th {\n",
              "        text-align: right;\n",
              "    }\n",
              "</style>\n",
              "<table border=\"1\" class=\"dataframe\">\n",
              "  <thead>\n",
              "    <tr style=\"text-align: right;\">\n",
              "      <th></th>\n",
              "      <th>TRIP_ID</th>\n",
              "      <th>LATITUDE</th>\n",
              "      <th>LONGITUDE</th>\n",
              "    </tr>\n",
              "  </thead>\n",
              "  <tbody>\n",
              "    <tr>\n",
              "      <th>0</th>\n",
              "      <td>T1</td>\n",
              "      <td>41.146504</td>\n",
              "      <td>-8.611317</td>\n",
              "    </tr>\n",
              "    <tr>\n",
              "      <th>1</th>\n",
              "      <td>T2</td>\n",
              "      <td>41.146504</td>\n",
              "      <td>-8.611317</td>\n",
              "    </tr>\n",
              "    <tr>\n",
              "      <th>2</th>\n",
              "      <td>T3</td>\n",
              "      <td>41.146504</td>\n",
              "      <td>-8.611317</td>\n",
              "    </tr>\n",
              "    <tr>\n",
              "      <th>3</th>\n",
              "      <td>T4</td>\n",
              "      <td>41.146504</td>\n",
              "      <td>-8.611317</td>\n",
              "    </tr>\n",
              "    <tr>\n",
              "      <th>4</th>\n",
              "      <td>T5</td>\n",
              "      <td>41.146504</td>\n",
              "      <td>-8.611317</td>\n",
              "    </tr>\n",
              "  </tbody>\n",
              "</table>\n",
              "</div>"
            ],
            "text/plain": [
              "  TRIP_ID   LATITUDE  LONGITUDE\n",
              "0      T1  41.146504  -8.611317\n",
              "1      T2  41.146504  -8.611317\n",
              "2      T3  41.146504  -8.611317\n",
              "3      T4  41.146504  -8.611317\n",
              "4      T5  41.146504  -8.611317"
            ]
          },
          "metadata": {
            "tags": []
          }
        }
      ]
    },
    {
      "cell_type": "markdown",
      "metadata": {
        "id": "_h-K1IYZ5NQF",
        "colab_type": "text"
      },
      "source": [
        "# Feature Engineering"
      ]
    },
    {
      "cell_type": "code",
      "metadata": {
        "id": "AYVO6HBQryaD",
        "colab_type": "code",
        "colab": {}
      },
      "source": [
        "import datetime\n",
        "import json \n",
        "\n",
        "class OurFeatureEngineering:\n",
        "  def __init__(self, data_train, data_test):\n",
        "    self.df_train = data_train\n",
        "    self.df_test = data_test\n",
        "\n",
        "\n",
        "  def type_organise(self):  \n",
        "    for data in [self.df_train, self.df_test]:\n",
        "      # Polyline - transforming string of list to list\n",
        "      for i in range(data.shape[0]):\n",
        "        data['POLYLINE'] = data['POLYLINE'].apply(lambda x: json.loads(x))\n",
        "        #data[\"POLYLINE\"][i] = json.loads(data[\"POLYLINE\"][i])\n",
        "      \n",
        "      # For others features\n",
        "      data[\"TRIP_ID\"] = data[\"TRIP_ID\"].astype('object')\n",
        "      data[\"CALL_TYPE\"] = data[\"CALL_TYPE\"].astype('category')\n",
        "      data[\"ORIGIN_CALL\"] = data[\"ORIGIN_CALL\"].fillna(-1).astype('int64')\n",
        "      data[\"ORIGIN_STAND\"] = data[\"ORIGIN_STAND\"].fillna(-1).astype('int64')\n",
        "      data[\"TAXI_ID\"] = data[\"TAXI_ID\"].fillna(-1).astype('int64')\n",
        "      data[\"TIMESTAMP\"] = data[\"TIMESTAMP\"].fillna(-1).astype('int64')\n",
        "      data[\"DAY_TYPE\"] = data[\"DAY_TYPE\"].astype('category')\n",
        "      data[\"MISSING_DATA\"] = data[\"MISSING_DATA\"].astype('bool')\n",
        "\n",
        "\n",
        "  # Creation of others features\n",
        "  def creation_features(self):\n",
        "    for data in [self.df_train, self.df_test]:\n",
        "      data['LEN'] = data['POLYLINE'].apply(lambda x: len(x))\n",
        "      data['TIMESTAMP_END'] = data['TIMESTAMP'].map(int) + data['LEN'].map(lambda x: 15*x)\n",
        "      data['END_HOUR_2'] = data['TIMESTAMP_END'].map(lambda x: datetime.datetime.utcfromtimestamp(x).hour)\n",
        "      data['END_DATE_2'] = data['TIMESTAMP_END'].map(lambda x: datetime.datetime.utcfromtimestamp(x).day)\n",
        "      display(data[['LEN', 'TIMESTAMP_END', 'END_HOUR_2', 'END_DATE_2']])\n",
        "      print(data[\"END_DATE_2\"].unique())\n",
        "      print(data[\"LEN\"].max())\n",
        "\n",
        "\n",
        "  # Fixing the length of the taxi trajectory\n",
        "  def fixing_len_trajectory(self, k):\n",
        "    pass"
      ],
      "execution_count": 0,
      "outputs": []
    },
    {
      "cell_type": "code",
      "metadata": {
        "id": "0L47iqYgoBVD",
        "colab_type": "code",
        "colab": {}
      },
      "source": [
        "ourfeat = OurFeatureEngineering(df_train, df_test)\n",
        "ourfeat.type_organise()\n",
        "ourfeat.creation_features()\n",
        "\n",
        "print(df_train.dtypes)\n",
        "display(df_train.head())"
      ],
      "execution_count": 0,
      "outputs": []
    },
    {
      "cell_type": "code",
      "metadata": {
        "id": "XspUCImdM9sj",
        "colab_type": "code",
        "outputId": "1bf77c4f-34d4-4b21-f0bd-8f53b12d2a92",
        "colab": {
          "base_uri": "https://localhost:8080/",
          "height": 416
        }
      },
      "source": [
        "display(df_train)"
      ],
      "execution_count": 0,
      "outputs": [
        {
          "output_type": "display_data",
          "data": {
            "text/html": [
              "<div>\n",
              "<style scoped>\n",
              "    .dataframe tbody tr th:only-of-type {\n",
              "        vertical-align: middle;\n",
              "    }\n",
              "\n",
              "    .dataframe tbody tr th {\n",
              "        vertical-align: top;\n",
              "    }\n",
              "\n",
              "    .dataframe thead th {\n",
              "        text-align: right;\n",
              "    }\n",
              "</style>\n",
              "<table border=\"1\" class=\"dataframe\">\n",
              "  <thead>\n",
              "    <tr style=\"text-align: right;\">\n",
              "      <th></th>\n",
              "      <th>TRIP_ID</th>\n",
              "      <th>CALL_TYPE</th>\n",
              "      <th>ORIGIN_CALL</th>\n",
              "      <th>ORIGIN_STAND</th>\n",
              "      <th>TAXI_ID</th>\n",
              "      <th>TIMESTAMP</th>\n",
              "      <th>DAY_TYPE</th>\n",
              "      <th>MISSING_DATA</th>\n",
              "      <th>POLYLINE</th>\n",
              "    </tr>\n",
              "  </thead>\n",
              "  <tbody>\n",
              "    <tr>\n",
              "      <th>0</th>\n",
              "      <td>1372636858620000589</td>\n",
              "      <td>C</td>\n",
              "      <td>-1</td>\n",
              "      <td>-1</td>\n",
              "      <td>20000589</td>\n",
              "      <td>1372636858</td>\n",
              "      <td>A</td>\n",
              "      <td>False</td>\n",
              "      <td>[[-8.618643, 41.141412], [-8.618499, 41.141376...</td>\n",
              "    </tr>\n",
              "    <tr>\n",
              "      <th>1</th>\n",
              "      <td>1372637303620000596</td>\n",
              "      <td>B</td>\n",
              "      <td>-1</td>\n",
              "      <td>7</td>\n",
              "      <td>20000596</td>\n",
              "      <td>1372637303</td>\n",
              "      <td>A</td>\n",
              "      <td>False</td>\n",
              "      <td>[[-8.639847, 41.159826], [-8.640351, 41.159871...</td>\n",
              "    </tr>\n",
              "    <tr>\n",
              "      <th>2</th>\n",
              "      <td>1372636951620000320</td>\n",
              "      <td>C</td>\n",
              "      <td>-1</td>\n",
              "      <td>-1</td>\n",
              "      <td>20000320</td>\n",
              "      <td>1372636951</td>\n",
              "      <td>A</td>\n",
              "      <td>False</td>\n",
              "      <td>[[-8.612964, 41.140359], [-8.613378, 41.14035]...</td>\n",
              "    </tr>\n",
              "    <tr>\n",
              "      <th>3</th>\n",
              "      <td>1372636854620000520</td>\n",
              "      <td>C</td>\n",
              "      <td>-1</td>\n",
              "      <td>-1</td>\n",
              "      <td>20000520</td>\n",
              "      <td>1372636854</td>\n",
              "      <td>A</td>\n",
              "      <td>False</td>\n",
              "      <td>[[-8.574678, 41.151951], [-8.574705, 41.151942...</td>\n",
              "    </tr>\n",
              "    <tr>\n",
              "      <th>4</th>\n",
              "      <td>1372637091620000337</td>\n",
              "      <td>C</td>\n",
              "      <td>-1</td>\n",
              "      <td>-1</td>\n",
              "      <td>20000337</td>\n",
              "      <td>1372637091</td>\n",
              "      <td>A</td>\n",
              "      <td>False</td>\n",
              "      <td>[[-8.645994, 41.18049], [-8.645949, 41.180517]...</td>\n",
              "    </tr>\n",
              "    <tr>\n",
              "      <th>...</th>\n",
              "      <td>...</td>\n",
              "      <td>...</td>\n",
              "      <td>...</td>\n",
              "      <td>...</td>\n",
              "      <td>...</td>\n",
              "      <td>...</td>\n",
              "      <td>...</td>\n",
              "      <td>...</td>\n",
              "      <td>...</td>\n",
              "    </tr>\n",
              "    <tr>\n",
              "      <th>1710665</th>\n",
              "      <td>1404171463620000698</td>\n",
              "      <td>C</td>\n",
              "      <td>-1</td>\n",
              "      <td>-1</td>\n",
              "      <td>20000698</td>\n",
              "      <td>1404171463</td>\n",
              "      <td>A</td>\n",
              "      <td>False</td>\n",
              "      <td>[[-8.612469,41.14602],[-8.612487,41.145993],[-...</td>\n",
              "    </tr>\n",
              "    <tr>\n",
              "      <th>1710666</th>\n",
              "      <td>1404171367620000670</td>\n",
              "      <td>C</td>\n",
              "      <td>-1</td>\n",
              "      <td>-1</td>\n",
              "      <td>20000670</td>\n",
              "      <td>1404171367</td>\n",
              "      <td>A</td>\n",
              "      <td>False</td>\n",
              "      <td>[[-8.610138,41.140845],[-8.610174,41.140935],[...</td>\n",
              "    </tr>\n",
              "    <tr>\n",
              "      <th>1710667</th>\n",
              "      <td>1388745716620000264</td>\n",
              "      <td>C</td>\n",
              "      <td>-1</td>\n",
              "      <td>-1</td>\n",
              "      <td>20000264</td>\n",
              "      <td>1388745716</td>\n",
              "      <td>A</td>\n",
              "      <td>False</td>\n",
              "      <td>[]</td>\n",
              "    </tr>\n",
              "    <tr>\n",
              "      <th>1710668</th>\n",
              "      <td>1404141826620000248</td>\n",
              "      <td>B</td>\n",
              "      <td>-1</td>\n",
              "      <td>12</td>\n",
              "      <td>20000248</td>\n",
              "      <td>1404141826</td>\n",
              "      <td>A</td>\n",
              "      <td>False</td>\n",
              "      <td>[[-8.630712,41.154885],[-8.63073,41.154813],[-...</td>\n",
              "    </tr>\n",
              "    <tr>\n",
              "      <th>1710669</th>\n",
              "      <td>1404157147620000079</td>\n",
              "      <td>B</td>\n",
              "      <td>-1</td>\n",
              "      <td>34</td>\n",
              "      <td>20000079</td>\n",
              "      <td>1404157147</td>\n",
              "      <td>A</td>\n",
              "      <td>False</td>\n",
              "      <td>[[-8.615538,41.140629],[-8.615421,41.140746],[...</td>\n",
              "    </tr>\n",
              "  </tbody>\n",
              "</table>\n",
              "<p>1710670 rows × 9 columns</p>\n",
              "</div>"
            ],
            "text/plain": [
              "                     TRIP_ID  ...                                           POLYLINE\n",
              "0        1372636858620000589  ...  [[-8.618643, 41.141412], [-8.618499, 41.141376...\n",
              "1        1372637303620000596  ...  [[-8.639847, 41.159826], [-8.640351, 41.159871...\n",
              "2        1372636951620000320  ...  [[-8.612964, 41.140359], [-8.613378, 41.14035]...\n",
              "3        1372636854620000520  ...  [[-8.574678, 41.151951], [-8.574705, 41.151942...\n",
              "4        1372637091620000337  ...  [[-8.645994, 41.18049], [-8.645949, 41.180517]...\n",
              "...                      ...  ...                                                ...\n",
              "1710665  1404171463620000698  ...  [[-8.612469,41.14602],[-8.612487,41.145993],[-...\n",
              "1710666  1404171367620000670  ...  [[-8.610138,41.140845],[-8.610174,41.140935],[...\n",
              "1710667  1388745716620000264  ...                                                 []\n",
              "1710668  1404141826620000248  ...  [[-8.630712,41.154885],[-8.63073,41.154813],[-...\n",
              "1710669  1404157147620000079  ...  [[-8.615538,41.140629],[-8.615421,41.140746],[...\n",
              "\n",
              "[1710670 rows x 9 columns]"
            ]
          },
          "metadata": {
            "tags": []
          }
        }
      ]
    },
    {
      "cell_type": "code",
      "metadata": {
        "id": "8CCxauSgFhCo",
        "colab_type": "code",
        "outputId": "303bf12d-d9cd-4a5e-dbb3-98c8dbbadddb",
        "colab": {
          "base_uri": "https://localhost:8080/",
          "height": 371
        }
      },
      "source": [
        "print(df_train.dtypes)\n",
        "\n",
        "df_train[\"TRIP_ID\"] = df_train[\"TRIP_ID\"].astype('object')\n",
        "df_train[\"CALL_TYPE\"] = df_train[\"CALL_TYPE\"].astype('category')\n",
        "df_train[\"ORIGIN_CALL\"] = df_train[\"ORIGIN_CALL\"].fillna(-1).astype('int64')\n",
        "df_train[\"ORIGIN_STAND\"] = df_train[\"ORIGIN_STAND\"].fillna(-1).astype('int64')\n",
        "df_train[\"TAXI_ID\"] = df_train[\"TAXI_ID\"].fillna(-1).astype('int64')\n",
        "df_train[\"TIMESTAMP\"] = df_train[\"TIMESTAMP\"].fillna(-1).astype('int64')\n",
        "df_train[\"DAY_TYPE\"] = df_train[\"DAY_TYPE\"].astype('category')\n",
        "df_train[\"MISSING_DATA\"] = df_train[\"MISSING_DATA\"].astype('bool')\n",
        "\n",
        "print(df_train.dtypes)"
      ],
      "execution_count": 0,
      "outputs": [
        {
          "output_type": "stream",
          "text": [
            "TRIP_ID           object\n",
            "CALL_TYPE       category\n",
            "ORIGIN_CALL        int64\n",
            "ORIGIN_STAND     float64\n",
            "TAXI_ID            int64\n",
            "TIMESTAMP          int64\n",
            "DAY_TYPE          object\n",
            "MISSING_DATA        bool\n",
            "POLYLINE          object\n",
            "dtype: object\n",
            "TRIP_ID           object\n",
            "CALL_TYPE       category\n",
            "ORIGIN_CALL        int64\n",
            "ORIGIN_STAND       int64\n",
            "TAXI_ID            int64\n",
            "TIMESTAMP          int64\n",
            "DAY_TYPE        category\n",
            "MISSING_DATA        bool\n",
            "POLYLINE          object\n",
            "dtype: object\n"
          ],
          "name": "stdout"
        }
      ]
    },
    {
      "cell_type": "markdown",
      "metadata": {
        "id": "K8FQtNTG5Yos",
        "colab_type": "text"
      },
      "source": [
        "# Creation of the model"
      ]
    },
    {
      "cell_type": "code",
      "metadata": {
        "id": "XVxYfqdLo_Im",
        "colab_type": "code",
        "colab": {}
      },
      "source": [
        "# Embedding of taxiID, clientID, "
      ],
      "execution_count": 0,
      "outputs": []
    },
    {
      "cell_type": "markdown",
      "metadata": {
        "id": "HiWhWPuC5rnH",
        "colab_type": "text"
      },
      "source": [
        "# Fitting the model"
      ]
    },
    {
      "cell_type": "markdown",
      "metadata": {
        "id": "bZUnwfD35zR6",
        "colab_type": "text"
      },
      "source": [
        "# Validation of the model"
      ]
    },
    {
      "cell_type": "markdown",
      "metadata": {
        "id": "yVnfjdCf59j9",
        "colab_type": "text"
      },
      "source": [
        "# Prediction"
      ]
    }
  ]
}